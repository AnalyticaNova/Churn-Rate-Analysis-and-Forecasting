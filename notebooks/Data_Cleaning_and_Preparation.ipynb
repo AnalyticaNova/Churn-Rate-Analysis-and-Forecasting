{
 "cells": [
  {
   "cell_type": "markdown",
   "id": "fa672430-9c38-40ae-86aa-a97c8354a42f",
   "metadata": {
    "jp-MarkdownHeadingCollapsed": true
   },
   "source": [
    "# Table of Contents\n",
    "\n",
    "- [Metadata](#metadata)\n",
    "- [Deep Dive](#deep-dive)\n",
    "   - [Step 1: Required Libraries & Data Loading](#step-1-required-libraries--data-loading)\n",
    "   - [Step 2: Data Cleaning & Preparation](#step-2-data-cleaning--preparation)\n",
    "     - [Initial Data Exploration](#initial-data-exploration)\n",
    "     - [Duplicate Data Detection](#duplicate-data-detection)\n",
    "     - [Handling Missing Data](#handling-missing-data)\n",
    "   - [Inserting Processed Data into Database](#inserting-processed-data-into-database)\n",
    "     - [Creating the Database](#creating-the-database)\n",
    "     - [Connecting to PostgresQL](#connecting-to-postgresql)\n",
    "     - [Creating the Table](#creating-the-table)\n",
    "     - [Inserting Data into the Table](#inserting-data-into-the-table)"
   ]
  },
  {
   "cell_type": "markdown",
   "id": "032a3308-7226-4733-ac56-6ace48e5a250",
   "metadata": {},
   "source": [
    "# Metadata"
   ]
  },
  {
   "cell_type": "markdown",
   "id": "94a65f15-a2ce-4310-857e-e6fbc8fa813c",
   "metadata": {},
   "source": [
    "**Customer Status**\n",
    "\n",
    "- *CustomerID* - unique customer identification number\n",
    "- *Churn Label* - indicates if the customer churned\n",
    "- *Churn Category* - classes of churns\n",
    "- *Churn Reason* - the reason for the churn of the customer\n",
    "\n",
    "**Demographic**\n",
    "\n",
    "- *Under30* - indicates if the customer is under 30 years old\n",
    "- *Senior* - indicates if the customer is a senior\n",
    "- *Gender* - the gender of the customer\n",
    "- *Age* - the age of the customer\n",
    "\n",
    "**Contract Information**\n",
    "\n",
    "- *Contract Type* - the subscription basis of the customer\n",
    "- *Payment Method* - means of payment\n",
    "- *Phone Number* - the phone number of the customer\n",
    "- *Group* - indicates if the customer is part of a group plan\n",
    "- *Number of Customers in a Group* - number of customers part of group\n",
    "\n",
    "**Subscription Types & Charges**\n",
    "\n",
    "- *Account Length (in months)* – the duration of the customer's tenure\n",
    "- *Local Calls* - the number of local calls made\n",
    "- *Local mins* - time spent on local calls made\n",
    "- *Int Calls* - the number of international calls made\n",
    "- *Intl mins* - time spent on local calls made\n",
    "- *Intl Plan* – Indicates whether the customer has a premium plan for free international calls\n",
    "- *Intl Active* – Indicates whether the customer makes international calls\n",
    "- *Extra International Charges* - charges incurred on internatoinal calls for customers who are not on a premium plan\n",
    "- *Customer Service Calls* - the number of calls made to customer service\n",
    "- *Avg Monthly Download* - contains the average monthly download volume in gigabytes\n",
    "- *Unlimited Data Plan* - if the customer subscribed for unlimited data\n",
    "- *Monthly Charges* - charges incurred on each customer on a monthly basis\n",
    "- *Total Charges* - total charges incurred on each customer"
   ]
  },
  {
   "cell_type": "markdown",
   "id": "9acdb9e0-cfe1-422f-975a-3812b300cb00",
   "metadata": {},
   "source": [
    "# Deep Dive"
   ]
  },
  {
   "cell_type": "markdown",
   "id": "71d31b38-b9ce-44d2-b6df-e9f8e85920bc",
   "metadata": {},
   "source": [
    "## Step 1: Required Libraries & Data Loading"
   ]
  },
  {
   "cell_type": "code",
   "execution_count": 74,
   "id": "6f9aae89-463a-4210-a878-0854e9baf0f3",
   "metadata": {
    "editable": true,
    "scrolled": true,
    "slideshow": {
     "slide_type": ""
    },
    "tags": []
   },
   "outputs": [],
   "source": [
    "import pandas as pd\n",
    "import numpy as np\n",
    "\n",
    "import seaborn as sns\n",
    "import matplotlib.pyplot as plt\n",
    "%matplotlib inline\n",
    "\n",
    "from IPython.display import display, HTML\n",
    "import plotly.express as px\n",
    "\n",
    "#import cufflinks as cf\n",
    "#import plotly.graph_objects as go\n",
    "\n",
    "import warnings\n",
    "warnings.filterwarnings(\"ignore\")"
   ]
  },
  {
   "cell_type": "code",
   "execution_count": 75,
   "id": "22f68b51-bd40-497b-b30a-9adfdbd6a16f",
   "metadata": {},
   "outputs": [],
   "source": [
    "import os\n",
    "import zipfile\n",
    "\n",
    "# Getting the absolute path of the project directory\n",
    "project_path = os.path.abspath(os.path.join(base_path, \"..\"))  # Go one level up\n",
    "data_folder = os.path.join(project_path, \"data\")  # Store data inside 'data' in the main project\n",
    "\n",
    "# Ensuring the correct 'data' folder exists\n",
    "os.makedirs(data_folder, exist_ok=True)\n",
    "\n",
    "# Updating paths for ZIP and CSV files\n",
    "zip_file_path = os.path.join(data_folder, \"databel-telecom-customer-churn-dataset.zip\")\n",
    "csv_file_path = os.path.join(data_folder, \"Databel - Data.csv\")\n",
    "\n",
    "# Removing the \"Downloads\" folder if it exists\n",
    "downloads_path = os.path.join(project_path, \"Downloads\")\n",
    "if os.path.exists(downloads_path):\n",
    "    import shutil\n",
    "    shutil.rmtree(downloads_path)\n",
    "\n",
    "# Ensuring the data folder exists\n",
    "os.makedirs(\"../data\", exist_ok=True)\n",
    "\n",
    "# Checking if the dataset is already extracted\n",
    "if not os.path.exists(csv_file_path):\n",
    "    print(\"Dataset not found locally. Downloading and extracting...\")\n",
    "\n",
    "    # Downloading the dataset using Kaggle API\n",
    "    !kaggle datasets download -d yichienchong/databel-telecom-customer-churn-dataset -p data/\n",
    "\n",
    "    # Extracting the ZIP file\n",
    "    with zipfile.ZipFile(zip_file_path, 'r') as zip_ref:\n",
    "        zip_ref.extractall(data_folder)\n",
    "\n",
    "# Loading CSV into a DataFrame\n",
    "df_initial = pd.read_csv(csv_file_path)"
   ]
  },
  {
   "cell_type": "markdown",
   "id": "407834d8-71d1-4cbe-8388-986df6a9873a",
   "metadata": {
    "editable": true,
    "slideshow": {
     "slide_type": ""
    },
    "tags": []
   },
   "source": [
    "## Step 2: Data Cleaning & Preparation\n",
    "\n",
    "- Verify the data types for consistency and address any discrepancies.\n",
    "  \n",
    "- Identify and handle duplicate records.\n",
    "\n",
    "- Evaluate missing values and take appropriate action (remove or impute).\n",
    "\n",
    "- Address missing data by either removing or imputing values, depending on the context.\n",
    "\n",
    "- Outlier detection and treatment will be thoroughly explored during the Exploratory Data Analysis (EDA) phase (Step 3)."
   ]
  },
  {
   "cell_type": "markdown",
   "id": "5a0bff2b-0da5-47d3-aa7f-28dcc0ed2a3f",
   "metadata": {},
   "source": [
    "### Initial Data Exploration"
   ]
  },
  {
   "cell_type": "code",
   "execution_count": 3,
   "id": "a2a492c2-be1e-4c2a-8148-b9bec2ebb59b",
   "metadata": {
    "editable": true,
    "jupyter": {
     "source_hidden": true
    },
    "scrolled": true,
    "slideshow": {
     "slide_type": ""
    },
    "tags": []
   },
   "outputs": [
    {
     "data": {
      "text/html": [
       "<div>\n",
       "<style scoped>\n",
       "    .dataframe tbody tr th:only-of-type {\n",
       "        vertical-align: middle;\n",
       "    }\n",
       "\n",
       "    .dataframe tbody tr th {\n",
       "        vertical-align: top;\n",
       "    }\n",
       "\n",
       "    .dataframe thead th {\n",
       "        text-align: right;\n",
       "    }\n",
       "</style>\n",
       "<table border=\"1\" class=\"dataframe\">\n",
       "  <thead>\n",
       "    <tr style=\"text-align: right;\">\n",
       "      <th></th>\n",
       "      <th>Customer ID</th>\n",
       "      <th>Churn Label</th>\n",
       "      <th>Account Length (in months)</th>\n",
       "      <th>Local Calls</th>\n",
       "      <th>Local Mins</th>\n",
       "      <th>Intl Calls</th>\n",
       "      <th>Intl Mins</th>\n",
       "      <th>Intl Active</th>\n",
       "      <th>Intl Plan</th>\n",
       "      <th>Extra International Charges</th>\n",
       "      <th>...</th>\n",
       "      <th>Senior</th>\n",
       "      <th>Group</th>\n",
       "      <th>Number of Customers in Group</th>\n",
       "      <th>Device Protection &amp; Online Backup</th>\n",
       "      <th>Contract Type</th>\n",
       "      <th>Payment Method</th>\n",
       "      <th>Monthly Charge</th>\n",
       "      <th>Total Charges</th>\n",
       "      <th>Churn Category</th>\n",
       "      <th>Churn Reason</th>\n",
       "    </tr>\n",
       "  </thead>\n",
       "  <tbody>\n",
       "    <tr>\n",
       "      <th>0</th>\n",
       "      <td>4444-BZPU</td>\n",
       "      <td>No</td>\n",
       "      <td>1</td>\n",
       "      <td>3</td>\n",
       "      <td>8.0</td>\n",
       "      <td>0.0</td>\n",
       "      <td>0.0</td>\n",
       "      <td>No</td>\n",
       "      <td>no</td>\n",
       "      <td>0.0</td>\n",
       "      <td>...</td>\n",
       "      <td>No</td>\n",
       "      <td>No</td>\n",
       "      <td>0</td>\n",
       "      <td>No</td>\n",
       "      <td>Month-to-Month</td>\n",
       "      <td>Direct Debit</td>\n",
       "      <td>10</td>\n",
       "      <td>10</td>\n",
       "      <td>NaN</td>\n",
       "      <td>NaN</td>\n",
       "    </tr>\n",
       "    <tr>\n",
       "      <th>1</th>\n",
       "      <td>5676-PTZX</td>\n",
       "      <td>No</td>\n",
       "      <td>33</td>\n",
       "      <td>179</td>\n",
       "      <td>431.3</td>\n",
       "      <td>0.0</td>\n",
       "      <td>0.0</td>\n",
       "      <td>No</td>\n",
       "      <td>no</td>\n",
       "      <td>0.0</td>\n",
       "      <td>...</td>\n",
       "      <td>No</td>\n",
       "      <td>No</td>\n",
       "      <td>0</td>\n",
       "      <td>Yes</td>\n",
       "      <td>One Year</td>\n",
       "      <td>Paper Check</td>\n",
       "      <td>21</td>\n",
       "      <td>703</td>\n",
       "      <td>NaN</td>\n",
       "      <td>NaN</td>\n",
       "    </tr>\n",
       "    <tr>\n",
       "      <th>2</th>\n",
       "      <td>8532-ZEKQ</td>\n",
       "      <td>No</td>\n",
       "      <td>44</td>\n",
       "      <td>82</td>\n",
       "      <td>217.6</td>\n",
       "      <td>0.0</td>\n",
       "      <td>0.0</td>\n",
       "      <td>No</td>\n",
       "      <td>yes</td>\n",
       "      <td>0.0</td>\n",
       "      <td>...</td>\n",
       "      <td>No</td>\n",
       "      <td>No</td>\n",
       "      <td>0</td>\n",
       "      <td>Yes</td>\n",
       "      <td>One Year</td>\n",
       "      <td>Direct Debit</td>\n",
       "      <td>23</td>\n",
       "      <td>1014</td>\n",
       "      <td>NaN</td>\n",
       "      <td>NaN</td>\n",
       "    </tr>\n",
       "    <tr>\n",
       "      <th>3</th>\n",
       "      <td>1314-SMPJ</td>\n",
       "      <td>No</td>\n",
       "      <td>10</td>\n",
       "      <td>47</td>\n",
       "      <td>111.6</td>\n",
       "      <td>60.0</td>\n",
       "      <td>71.0</td>\n",
       "      <td>Yes</td>\n",
       "      <td>yes</td>\n",
       "      <td>0.0</td>\n",
       "      <td>...</td>\n",
       "      <td>No</td>\n",
       "      <td>No</td>\n",
       "      <td>0</td>\n",
       "      <td>No</td>\n",
       "      <td>Month-to-Month</td>\n",
       "      <td>Paper Check</td>\n",
       "      <td>17</td>\n",
       "      <td>177</td>\n",
       "      <td>NaN</td>\n",
       "      <td>NaN</td>\n",
       "    </tr>\n",
       "    <tr>\n",
       "      <th>4</th>\n",
       "      <td>2956-TXCJ</td>\n",
       "      <td>No</td>\n",
       "      <td>62</td>\n",
       "      <td>184</td>\n",
       "      <td>621.2</td>\n",
       "      <td>310.0</td>\n",
       "      <td>694.4</td>\n",
       "      <td>Yes</td>\n",
       "      <td>yes</td>\n",
       "      <td>0.0</td>\n",
       "      <td>...</td>\n",
       "      <td>No</td>\n",
       "      <td>No</td>\n",
       "      <td>0</td>\n",
       "      <td>No</td>\n",
       "      <td>One Year</td>\n",
       "      <td>Direct Debit</td>\n",
       "      <td>28</td>\n",
       "      <td>1720</td>\n",
       "      <td>NaN</td>\n",
       "      <td>NaN</td>\n",
       "    </tr>\n",
       "  </tbody>\n",
       "</table>\n",
       "<p>5 rows × 29 columns</p>\n",
       "</div>"
      ],
      "text/plain": [
       "  Customer ID Churn Label  Account Length (in months)  Local Calls  \\\n",
       "0   4444-BZPU          No                           1            3   \n",
       "1   5676-PTZX          No                          33          179   \n",
       "2   8532-ZEKQ          No                          44           82   \n",
       "3   1314-SMPJ          No                          10           47   \n",
       "4   2956-TXCJ          No                          62          184   \n",
       "\n",
       "   Local Mins  Intl Calls  Intl Mins Intl Active Intl Plan  \\\n",
       "0         8.0         0.0        0.0          No        no   \n",
       "1       431.3         0.0        0.0          No        no   \n",
       "2       217.6         0.0        0.0          No       yes   \n",
       "3       111.6        60.0       71.0         Yes       yes   \n",
       "4       621.2       310.0      694.4         Yes       yes   \n",
       "\n",
       "   Extra International Charges  ...  Senior  Group  \\\n",
       "0                          0.0  ...      No     No   \n",
       "1                          0.0  ...      No     No   \n",
       "2                          0.0  ...      No     No   \n",
       "3                          0.0  ...      No     No   \n",
       "4                          0.0  ...      No     No   \n",
       "\n",
       "  Number of Customers in Group  Device Protection & Online Backup  \\\n",
       "0                            0                                 No   \n",
       "1                            0                                Yes   \n",
       "2                            0                                Yes   \n",
       "3                            0                                 No   \n",
       "4                            0                                 No   \n",
       "\n",
       "    Contract Type Payment Method Monthly Charge  Total Charges Churn Category  \\\n",
       "0  Month-to-Month   Direct Debit             10             10            NaN   \n",
       "1        One Year    Paper Check             21            703            NaN   \n",
       "2        One Year   Direct Debit             23           1014            NaN   \n",
       "3  Month-to-Month    Paper Check             17            177            NaN   \n",
       "4        One Year   Direct Debit             28           1720            NaN   \n",
       "\n",
       "  Churn Reason  \n",
       "0          NaN  \n",
       "1          NaN  \n",
       "2          NaN  \n",
       "3          NaN  \n",
       "4          NaN  \n",
       "\n",
       "[5 rows x 29 columns]"
      ]
     },
     "execution_count": 3,
     "metadata": {},
     "output_type": "execute_result"
    }
   ],
   "source": [
    "df_initial.head(5)"
   ]
  },
  {
   "cell_type": "code",
   "execution_count": 4,
   "id": "e09943c4-5988-44ab-ba9b-ced53adb2c60",
   "metadata": {},
   "outputs": [
    {
     "name": "stdout",
     "output_type": "stream",
     "text": [
      "<class 'pandas.core.frame.DataFrame'>\n",
      "RangeIndex: 6687 entries, 0 to 6686\n",
      "Data columns (total 29 columns):\n",
      " #   Column                             Non-Null Count  Dtype  \n",
      "---  ------                             --------------  -----  \n",
      " 0   Customer ID                        6687 non-null   object \n",
      " 1   Churn Label                        6687 non-null   object \n",
      " 2   Account Length (in months)         6687 non-null   int64  \n",
      " 3   Local Calls                        6687 non-null   int64  \n",
      " 4   Local Mins                         6687 non-null   float64\n",
      " 5   Intl Calls                         6687 non-null   float64\n",
      " 6   Intl Mins                          6687 non-null   float64\n",
      " 7   Intl Active                        6687 non-null   object \n",
      " 8   Intl Plan                          6687 non-null   object \n",
      " 9   Extra International Charges        6687 non-null   float64\n",
      " 10  Customer Service Calls             6687 non-null   int64  \n",
      " 11  Avg Monthly GB Download            6687 non-null   int64  \n",
      " 12  Unlimited Data Plan                6687 non-null   object \n",
      " 13  Extra Data Charges                 6687 non-null   int64  \n",
      " 14  State                              6687 non-null   object \n",
      " 15  Phone Number                       6687 non-null   object \n",
      " 16  Gender                             6687 non-null   object \n",
      " 17  Age                                6687 non-null   int64  \n",
      " 18  Under 30                           6687 non-null   object \n",
      " 19  Senior                             6687 non-null   object \n",
      " 20  Group                              6687 non-null   object \n",
      " 21  Number of Customers in Group       6687 non-null   int64  \n",
      " 22  Device Protection & Online Backup  6687 non-null   object \n",
      " 23  Contract Type                      6687 non-null   object \n",
      " 24  Payment Method                     6687 non-null   object \n",
      " 25  Monthly Charge                     6687 non-null   int64  \n",
      " 26  Total Charges                      6687 non-null   int64  \n",
      " 27  Churn Category                     1769 non-null   object \n",
      " 28  Churn Reason                       1769 non-null   object \n",
      "dtypes: float64(4), int64(9), object(16)\n",
      "memory usage: 1.5+ MB\n"
     ]
    }
   ],
   "source": [
    "df_initial.info()"
   ]
  },
  {
   "cell_type": "code",
   "execution_count": 5,
   "id": "2427a69f-11e0-47b0-b511-fe885c9eaf3d",
   "metadata": {
    "editable": true,
    "slideshow": {
     "slide_type": ""
    },
    "tags": []
   },
   "outputs": [
    {
     "data": {
      "text/plain": [
       "(6687, 29)"
      ]
     },
     "execution_count": 5,
     "metadata": {},
     "output_type": "execute_result"
    }
   ],
   "source": [
    "df_initial.shape"
   ]
  },
  {
   "cell_type": "code",
   "execution_count": 6,
   "id": "46e04d6c-b8b3-4592-8c10-e3b51f946835",
   "metadata": {
    "editable": true,
    "slideshow": {
     "slide_type": ""
    },
    "tags": []
   },
   "outputs": [
    {
     "data": {
      "text/plain": [
       "Index(['Customer ID', 'Churn Label', 'Account Length (in months)',\n",
       "       'Local Calls', 'Local Mins', 'Intl Calls', 'Intl Mins', 'Intl Active',\n",
       "       'Intl Plan', 'Extra International Charges', 'Customer Service Calls',\n",
       "       'Avg Monthly GB Download', 'Unlimited Data Plan', 'Extra Data Charges',\n",
       "       'State', 'Phone Number', 'Gender', 'Age', 'Under 30', 'Senior', 'Group',\n",
       "       'Number of Customers in Group', 'Device Protection & Online Backup',\n",
       "       'Contract Type', 'Payment Method', 'Monthly Charge', 'Total Charges',\n",
       "       'Churn Category', 'Churn Reason'],\n",
       "      dtype='object')"
      ]
     },
     "execution_count": 6,
     "metadata": {},
     "output_type": "execute_result"
    }
   ],
   "source": [
    "df_initial.columns"
   ]
  },
  {
   "cell_type": "code",
   "execution_count": 7,
   "id": "9124dcf6-23fa-4af7-8285-a2784f02a9cf",
   "metadata": {
    "editable": true,
    "scrolled": true,
    "slideshow": {
     "slide_type": ""
    },
    "tags": []
   },
   "outputs": [
    {
     "name": "stdout",
     "output_type": "stream",
     "text": [
      "<class 'pandas.core.frame.DataFrame'>\n",
      "RangeIndex: 6687 entries, 0 to 6686\n",
      "Data columns (total 29 columns):\n",
      " #   Column                             Non-Null Count  Dtype  \n",
      "---  ------                             --------------  -----  \n",
      " 0   Customer ID                        6687 non-null   object \n",
      " 1   Churn Label                        6687 non-null   object \n",
      " 2   Account Length (in months)         6687 non-null   int64  \n",
      " 3   Local Calls                        6687 non-null   int64  \n",
      " 4   Local Mins                         6687 non-null   float64\n",
      " 5   Intl Calls                         6687 non-null   float64\n",
      " 6   Intl Mins                          6687 non-null   float64\n",
      " 7   Intl Active                        6687 non-null   object \n",
      " 8   Intl Plan                          6687 non-null   object \n",
      " 9   Extra International Charges        6687 non-null   float64\n",
      " 10  Customer Service Calls             6687 non-null   int64  \n",
      " 11  Avg Monthly GB Download            6687 non-null   int64  \n",
      " 12  Unlimited Data Plan                6687 non-null   object \n",
      " 13  Extra Data Charges                 6687 non-null   int64  \n",
      " 14  State                              6687 non-null   object \n",
      " 15  Phone Number                       6687 non-null   object \n",
      " 16  Gender                             6687 non-null   object \n",
      " 17  Age                                6687 non-null   int64  \n",
      " 18  Under 30                           6687 non-null   object \n",
      " 19  Senior                             6687 non-null   object \n",
      " 20  Group                              6687 non-null   object \n",
      " 21  Number of Customers in Group       6687 non-null   int64  \n",
      " 22  Device Protection & Online Backup  6687 non-null   object \n",
      " 23  Contract Type                      6687 non-null   object \n",
      " 24  Payment Method                     6687 non-null   object \n",
      " 25  Monthly Charge                     6687 non-null   int64  \n",
      " 26  Total Charges                      6687 non-null   int64  \n",
      " 27  Churn Category                     1769 non-null   object \n",
      " 28  Churn Reason                       1769 non-null   object \n",
      "dtypes: float64(4), int64(9), object(16)\n",
      "memory usage: 1.5+ MB\n"
     ]
    }
   ],
   "source": [
    "df_initial.info()"
   ]
  },
  {
   "cell_type": "markdown",
   "id": "9ebfecd4-c82f-4312-8fd5-34b55918337b",
   "metadata": {},
   "source": [
    "### Duplicate Data Detection"
   ]
  },
  {
   "cell_type": "code",
   "execution_count": 8,
   "id": "577625f2-f022-4429-89b6-5e0c6ab3b00f",
   "metadata": {
    "editable": true,
    "scrolled": true,
    "slideshow": {
     "slide_type": ""
    },
    "tags": []
   },
   "outputs": [
    {
     "data": {
      "text/plain": [
       "0"
      ]
     },
     "execution_count": 8,
     "metadata": {},
     "output_type": "execute_result"
    }
   ],
   "source": [
    "df_initial.duplicated().sum()"
   ]
  },
  {
   "cell_type": "markdown",
   "id": "f2ec2f4b-6930-42c9-b6d2-f17b4dc06b80",
   "metadata": {},
   "source": [
    "We have no duplicate entries in this dataset."
   ]
  },
  {
   "cell_type": "markdown",
   "id": "f5751efe-d822-43e0-b6ac-fb6133e3e449",
   "metadata": {},
   "source": [
    "### Handling Missing Data"
   ]
  },
  {
   "cell_type": "code",
   "execution_count": 9,
   "id": "de80b785-7a0a-4e76-98e5-2bd7fd3c3c59",
   "metadata": {
    "editable": true,
    "scrolled": true,
    "slideshow": {
     "slide_type": ""
    },
    "tags": []
   },
   "outputs": [
    {
     "data": {
      "text/plain": [
       "Customer ID                             0\n",
       "Churn Label                             0\n",
       "Account Length (in months)              0\n",
       "Local Calls                             0\n",
       "Local Mins                              0\n",
       "Intl Calls                              0\n",
       "Intl Mins                               0\n",
       "Intl Active                             0\n",
       "Intl Plan                               0\n",
       "Extra International Charges             0\n",
       "Customer Service Calls                  0\n",
       "Avg Monthly GB Download                 0\n",
       "Unlimited Data Plan                     0\n",
       "Extra Data Charges                      0\n",
       "State                                   0\n",
       "Phone Number                            0\n",
       "Gender                                  0\n",
       "Age                                     0\n",
       "Under 30                                0\n",
       "Senior                                  0\n",
       "Group                                   0\n",
       "Number of Customers in Group            0\n",
       "Device Protection & Online Backup       0\n",
       "Contract Type                           0\n",
       "Payment Method                          0\n",
       "Monthly Charge                          0\n",
       "Total Charges                           0\n",
       "Churn Category                       4918\n",
       "Churn Reason                         4918\n",
       "dtype: int64"
      ]
     },
     "execution_count": 9,
     "metadata": {},
     "output_type": "execute_result"
    }
   ],
   "source": [
    "df_initial.isnull().sum()"
   ]
  },
  {
   "cell_type": "code",
   "execution_count": 10,
   "id": "d0776059-273b-4974-b84e-cad72f0f7e4f",
   "metadata": {
    "editable": true,
    "scrolled": true,
    "slideshow": {
     "slide_type": ""
    },
    "tags": []
   },
   "outputs": [
    {
     "data": {
      "image/png": "[encoded data removed]",
      "text/plain": [
       "<Figure size 2500x1000 with 3 Axes>"
      ]
     },
     "metadata": {},
     "output_type": "display_data"
    }
   ],
   "source": [
    "import missingno as msno\n",
    "\n",
    "msno.bar(df_initial)\n",
    "plt.show()"
   ]
  },
  {
   "cell_type": "markdown",
   "id": "9cc15e01-9f19-4cc3-81be-6a860250b77c",
   "metadata": {},
   "source": [
    "Churn Category and Churn Reason have a significant number of missing values (each has 4918 missing records). Since these columns are tied to churn, we can check if these entries are associated with customers who didn't churn. First, let's explore categories in these two columns."
   ]
  },
  {
   "cell_type": "code",
   "execution_count": 11,
   "id": "93ae4c9f-ef88-413a-aa32-505289af4b86",
   "metadata": {
    "editable": true,
    "slideshow": {
     "slide_type": ""
    },
    "tags": []
   },
   "outputs": [
    {
     "data": {
      "text/plain": [
       "array([nan, 'Competitor', 'Other', 'Attitude', 'Dissatisfaction', 'Price'],\n",
       "      dtype=object)"
      ]
     },
     "execution_count": 11,
     "metadata": {},
     "output_type": "execute_result"
    }
   ],
   "source": [
    "df_initial[\"Churn Category\"].unique()"
   ]
  },
  {
   "cell_type": "code",
   "execution_count": 12,
   "id": "687e66c2-1d40-48ce-a26a-9d7cfb909198",
   "metadata": {
    "editable": true,
    "slideshow": {
     "slide_type": ""
    },
    "tags": []
   },
   "outputs": [
    {
     "data": {
      "text/plain": [
       "array([nan, 'Competitor made better offer', 'Moved',\n",
       "       'Competitor had better devices',\n",
       "       'Competitor offered higher download speeds',\n",
       "       'Attitude of support person', 'Network reliability', \"Don't know\",\n",
       "       'Service dissatisfaction', 'Product dissatisfaction',\n",
       "       'Poor expertise of online support', 'Price too high',\n",
       "       'Limited range of services',\n",
       "       'Lack of affordable download/upload speed',\n",
       "       'Long distance charges', 'Competitor offered more data',\n",
       "       'Attitude of service provider', 'Poor expertise of phone support',\n",
       "       'Extra data charges', 'Deceased',\n",
       "       'Lack of self-service on Website'], dtype=object)"
      ]
     },
     "execution_count": 12,
     "metadata": {},
     "output_type": "execute_result"
    }
   ],
   "source": [
    "df_initial[\"Churn Reason\"].unique()"
   ]
  },
  {
   "cell_type": "markdown",
   "id": "e0ff7824-0640-43e9-bb32-d50a0eb950b8",
   "metadata": {
    "editable": true,
    "slideshow": {
     "slide_type": ""
    },
    "tags": []
   },
   "source": [
    "Let's check if these entries are associated with customers who didn't churn. "
   ]
  },
  {
   "cell_type": "code",
   "execution_count": 13,
   "id": "74e0c474-3c96-412a-b184-6c87df8a96d0",
   "metadata": {
    "editable": true,
    "slideshow": {
     "slide_type": ""
    },
    "tags": []
   },
   "outputs": [
    {
     "name": "stdout",
     "output_type": "stream",
     "text": [
      "Missing records in churn category: 4918\n",
      "Missing records in churn reason: 4918\n",
      "Non-churned customers: 4891\n"
     ]
    }
   ],
   "source": [
    "# Count of missing values in 'Churn Category' and 'Churn Reason'\n",
    "missing_churn_category = df_initial[\"Churn Category\"].isna().sum()\n",
    "missing_churn_reason = df_initial[\"Churn Reason\"].isna().sum()\n",
    "\n",
    "# Count of non-churned customers (Churn Label = \"No\")\n",
    "non_churned_customers = len(df_initial[df_initial[\"Churn Label\"] == \"No\"])\n",
    "\n",
    "# Results\n",
    "print(f\"Missing records in churn category: {missing_churn_category}\")\n",
    "print(f\"Missing records in churn reason: {missing_churn_reason}\")\n",
    "print(f\"Non-churned customers: {non_churned_customers}\")"
   ]
  },
  {
   "cell_type": "markdown",
   "id": "d8e3bde4-abb6-4cc7-aedc-4bb54f7c42ad",
   "metadata": {
    "editable": true,
    "slideshow": {
     "slide_type": ""
    },
    "tags": []
   },
   "source": [
    "These numbers could imply that the null values in the \"Churn Category\" and \"Churn Reason\" columns are likely due to the customers not being in a churned state and therefore not having a relevant churn category/Reason."
   ]
  },
  {
   "cell_type": "markdown",
   "id": "e85f3ca5-0ec4-4405-bb30-180e11e9d635",
   "metadata": {
    "editable": true,
    "slideshow": {
     "slide_type": ""
    },
    "tags": []
   },
   "source": [
    "To handle the null values properly,\n",
    "we fill in the null values in the \"Churn Category\" column for non-churned customers (\"No\" churn label) with \"Not Churned_C\".\n",
    "We also fill in the null values in the \"Churn Reason\" column for non-churned customers (\"No\" churn label) with \"Not Churned_R\"."
   ]
  },
  {
   "cell_type": "code",
   "execution_count": 14,
   "id": "7bf951c1-a28a-4835-8343-0a886535e9f4",
   "metadata": {
    "editable": true,
    "slideshow": {
     "slide_type": ""
    },
    "tags": []
   },
   "outputs": [],
   "source": [
    "df_initial.loc[df_initial[\"Churn Label\"] == \"No\", \"Churn Category\"] = \"Not Churned_C\"\n",
    "df_initial.loc[df_initial[\"Churn Label\"] == \"No\", \"Churn Reason\"] = \"Not Churned_R\""
   ]
  },
  {
   "cell_type": "code",
   "execution_count": 15,
   "id": "633b00b3-8416-4f60-850f-313a2dd51323",
   "metadata": {
    "editable": true,
    "slideshow": {
     "slide_type": ""
    },
    "tags": []
   },
   "outputs": [
    {
     "data": {
      "text/plain": [
       "27"
      ]
     },
     "execution_count": 15,
     "metadata": {},
     "output_type": "execute_result"
    }
   ],
   "source": [
    "df_initial[\"Churn Category\"].isnull().sum()"
   ]
  },
  {
   "cell_type": "code",
   "execution_count": 16,
   "id": "7ceffee5-b8ad-4e49-978e-24dd23a2edc5",
   "metadata": {
    "editable": true,
    "slideshow": {
     "slide_type": ""
    },
    "tags": []
   },
   "outputs": [
    {
     "data": {
      "text/plain": [
       "27"
      ]
     },
     "execution_count": 16,
     "metadata": {},
     "output_type": "execute_result"
    }
   ],
   "source": [
    "df_initial[\"Churn Reason\"].isnull().sum()"
   ]
  },
  {
   "cell_type": "markdown",
   "id": "a255f783-fa10-4d2f-8875-79da4f5b73c2",
   "metadata": {
    "editable": true,
    "slideshow": {
     "slide_type": ""
    },
    "tags": []
   },
   "source": [
    "**At this point, we have to options:**\n",
    "- *Option1*-\n",
    "For the churned customers (where \"Churn Label\" is \"Yes\"), we can fill the null values in \"Churn Category\" column with a specific category named \"Unknown category\".Also, for churners, we can fill the null values in \"Churn Reason\" column with a specific category named \"Unknown Reason\".e.g., df_initial[\"Churn Category\"].fillna(\"Unknown Category\", inplace=True)\n",
    "\n",
    "- *Option2*-\n",
    "Since there are only 27 missing records, we can simply drop the null values. \n",
    "\n",
    "Option 2 makes more sense here. "
   ]
  },
  {
   "cell_type": "code",
   "execution_count": 17,
   "id": "254b6d4c-a7d6-4e36-8136-a7b5e15081bb",
   "metadata": {
    "editable": true,
    "slideshow": {
     "slide_type": ""
    },
    "tags": []
   },
   "outputs": [],
   "source": [
    "# Dropping rows with NaN in 'Churn Category' and 'Churn Reason' and updating the DataFrame\n",
    "df_initial = df_initial.dropna(subset=[\"Churn Category\", \"Churn Reason\"])"
   ]
  },
  {
   "cell_type": "code",
   "execution_count": 18,
   "id": "03ef5c61-3440-4e65-9fd0-17236cce5ff7",
   "metadata": {
    "editable": true,
    "scrolled": true,
    "slideshow": {
     "slide_type": ""
    },
    "tags": []
   },
   "outputs": [
    {
     "data": {
      "text/plain": [
       "Customer ID                          0\n",
       "Churn Label                          0\n",
       "Account Length (in months)           0\n",
       "Local Calls                          0\n",
       "Local Mins                           0\n",
       "Intl Calls                           0\n",
       "Intl Mins                            0\n",
       "Intl Active                          0\n",
       "Intl Plan                            0\n",
       "Extra International Charges          0\n",
       "Customer Service Calls               0\n",
       "Avg Monthly GB Download              0\n",
       "Unlimited Data Plan                  0\n",
       "Extra Data Charges                   0\n",
       "State                                0\n",
       "Phone Number                         0\n",
       "Gender                               0\n",
       "Age                                  0\n",
       "Under 30                             0\n",
       "Senior                               0\n",
       "Group                                0\n",
       "Number of Customers in Group         0\n",
       "Device Protection & Online Backup    0\n",
       "Contract Type                        0\n",
       "Payment Method                       0\n",
       "Monthly Charge                       0\n",
       "Total Charges                        0\n",
       "Churn Category                       0\n",
       "Churn Reason                         0\n",
       "dtype: int64"
      ]
     },
     "execution_count": 18,
     "metadata": {},
     "output_type": "execute_result"
    }
   ],
   "source": [
    "# Final check for missing values\n",
    "df_initial.isnull().sum()"
   ]
  },
  {
   "cell_type": "markdown",
   "id": "ad48c62a-f78e-4d50-9b26-df04a104d597",
   "metadata": {},
   "source": [
    "## Inserting Processed Data into Database"
   ]
  },
  {
   "cell_type": "markdown",
   "id": "e308196a-3508-45f9-8813-955b008f970f",
   "metadata": {},
   "source": [
    "### Creating the Database"
   ]
  },
  {
   "cell_type": "code",
   "execution_count": 19,
   "id": "91671d73-d230-4d8b-a207-8e59b5a9b562",
   "metadata": {},
   "outputs": [
    {
     "name": "stdout",
     "output_type": "stream",
     "text": [
      "Database 'customer_churn_database' already exists.\n"
     ]
    }
   ],
   "source": [
    "import psycopg2\n",
    "import config  # Importing the configuration file for database credentials\n",
    "\n",
    "# Step 1: Connecting to the default PostgreSQL database to create the new database\n",
    "conn = psycopg2.connect(\n",
    "    dbname=\"postgres\",  # Default database to connect to\n",
    "    user=config.DB_USER,\n",
    "    password=config.DB_PASSWORD,\n",
    "    host=config.DB_HOST,\n",
    "    port=config.DB_PORT\n",
    ")\n",
    "conn.autocommit = True  # Enabling autocommit so changes are applied automatically\n",
    "cursor = conn.cursor()\n",
    "\n",
    "# Step 2: Creating the 'customer_churn_database' if it does not exist\n",
    "cursor.execute(\"SELECT 1 FROM pg_catalog.pg_database WHERE datname = %s\", ('customer_churn_database',))\n",
    "exists = cursor.fetchone()\n",
    "if not exists:\n",
    "    cursor.execute('CREATE DATABASE customer_churn_database;')\n",
    "    print(\"Database 'customer_churn_database' created successfully.\")\n",
    "else:\n",
    "    print(\"Database 'customer_churn_database' already exists.\")\n",
    "\n",
    "conn.close()  # Closing the initial connection to 'postgres'"
   ]
  },
  {
   "cell_type": "markdown",
   "id": "11cb79e7-4e4c-4f5e-af30-5e520c0610b4",
   "metadata": {},
   "source": [
    "### Connecting to PostgreSQL"
   ]
  },
  {
   "cell_type": "code",
   "execution_count": 20,
   "id": "859b0a75-a24b-4058-8df1-a604043b4926",
   "metadata": {},
   "outputs": [],
   "source": [
    "# Step 1: Connecting to the 'customer_churn_database' using credentials from config.py\n",
    "conn = psycopg2.connect(\n",
    "    dbname=config.DB_NAME,\n",
    "    user=config.DB_USER,\n",
    "    password=config.DB_PASSWORD,\n",
    "    host=config.DB_HOST,\n",
    "    port=config.DB_PORT\n",
    ")\n",
    "conn.autocommit = True  # Enabling autocommit so changes are applied automatically\n",
    "cursor = conn.cursor()"
   ]
  },
  {
   "cell_type": "markdown",
   "id": "c3bb4fe4-13fa-45d0-8604-281a5b040644",
   "metadata": {},
   "source": [
    "### Creating the Table"
   ]
  },
  {
   "cell_type": "code",
   "execution_count": 21,
   "id": "37e5ecfe-9d2a-4774-a4d9-ece7731fe143",
   "metadata": {},
   "outputs": [],
   "source": [
    "# Step 2: Creating the table if it does not exist\n",
    "create_table_query = \"\"\"CREATE TABLE IF NOT EXISTS customer_churn_table (\n",
    "    \"Customer ID\" VARCHAR(255),\n",
    "    \"Churn Label\" VARCHAR(255),\n",
    "    \"Account Length (in months)\" INTEGER,\n",
    "    \"Local Calls\" INTEGER,\n",
    "    \"Local Mins\" FLOAT,\n",
    "    \"Intl Calls\" FLOAT,\n",
    "    \"Intl Mins\" FLOAT,\n",
    "    \"Intl Active\" VARCHAR(255),\n",
    "    \"Intl Plan\" VARCHAR(255),\n",
    "    \"Extra International Charges\" FLOAT,\n",
    "    \"Customer Service Calls\" INTEGER,\n",
    "    \"Avg Monthly GB Download\" INTEGER,\n",
    "    \"Unlimited Data Plan\" VARCHAR(255),\n",
    "    \"Extra Data Charges\" INTEGER,\n",
    "    \"State\" VARCHAR(255),\n",
    "    \"Phone Number\" VARCHAR(255),\n",
    "    \"Gender\" VARCHAR(255),\n",
    "    \"Age\" INTEGER,\n",
    "    \"Under 30\" VARCHAR(255),\n",
    "    \"Senior\" VARCHAR(255),\n",
    "    \"Group\" VARCHAR(255),\n",
    "    \"Number of Customers in Group\" INTEGER,\n",
    "    \"Device Protection & Online Backup\" VARCHAR(255),\n",
    "    \"Contract Type\" VARCHAR(255),\n",
    "    \"Payment Method\" VARCHAR(255),\n",
    "    \"Monthly Charge\" INTEGER,\n",
    "    \"Total Charges\" INTEGER,\n",
    "    \"Churn Category\" VARCHAR(255),\n",
    "    \"Churn Reason\" VARCHAR(255),\n",
    "    \"Churned\" INTEGER\n",
    ");\"\"\"\n",
    "\n",
    "# Dropping the existing data in the table \n",
    "# cursor.execute(\"DROP TABLE IF EXISTS customer_churn_table;\") # Executing Table Creation\n",
    "cursor.execute(create_table_query)\n",
    "conn.commit()\n",
    "\n",
    "# Dropping the existing data in the table\n",
    "cursor.execute(\"DELETE FROM customer_churn_table;\")\n",
    "conn.commit()"
   ]
  },
  {
   "cell_type": "markdown",
   "id": "0dd0061d-4e3e-40ba-8741-ef0db796d0a3",
   "metadata": {},
   "source": [
    "### Inserting Data into the Table"
   ]
  },
  {
   "cell_type": "code",
   "execution_count": 22,
   "id": "7fd92d55-fea8-4556-af0c-46ad9cea95c4",
   "metadata": {},
   "outputs": [
    {
     "name": "stdout",
     "output_type": "stream",
     "text": [
      "Processed data has been written to the database.\n"
     ]
    }
   ],
   "source": [
    "# Step 4: Inserting the processed DataFrame into the table\n",
    "for _, row in df_initial.iterrows():\n",
    "    values = tuple(row)  # Converting row to a tuple\n",
    "    placeholders = \", \".join([\"%s\"] * len(row))\n",
    "    insert_query = f\"INSERT INTO customer_churn_table VALUES ({placeholders})\"\n",
    "    cursor.execute(insert_query, values)\n",
    "\n",
    "conn.commit()  # Committing changes to the database\n",
    "print(\"Processed data has been written to the database.\")"
   ]
  },
  {
   "cell_type": "markdown",
   "id": "f2c2c0ce-84c2-4652-a986-9ad374eab30b",
   "metadata": {
    "editable": true,
    "slideshow": {
     "slide_type": ""
    },
    "tags": []
   },
   "source": [
    "**The dataset is ready for analysis.**"
   ]
  },
  {
   "cell_type": "code",
   "execution_count": null,
   "id": "19d82adb-aba4-4b7b-97ba-acdb1ee3331e",
   "metadata": {},
   "outputs": [],
   "source": []
  }
 ],
 "metadata": {
  "kernelspec": {
   "display_name": "Python 3 (ipykernel)",
   "language": "python",
   "name": "python3"
  },
  "language_info": {
   "codemirror_mode": {
    "name": "ipython",
    "version": 3
   },
   "file_extension": ".py",
   "mimetype": "text/x-python",
   "name": "python",
   "nbconvert_exporter": "python",
   "pygments_lexer": "ipython3",
   "version": "3.11.4"
  },
  "toc": {
   "base_numbering": -1
  }
 },
 "nbformat": 4,
 "nbformat_minor": 5
}
